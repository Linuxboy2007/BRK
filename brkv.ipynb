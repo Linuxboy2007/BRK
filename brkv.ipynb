{
 "cells": [
  {
   "cell_type": "markdown",
   "metadata": {},
   "source": [
    "## Неявный метод простых итераций на основе сингулярного разложения"
   ]
  },
  {
   "cell_type": "markdown",
   "metadata": {},
   "source": [
    "### Пример \n",
    "Рассмотрим МНК задачу вида\n",
    "\n",
    "\\begin{equation}\n",
    "\\label{eq1}\\tag{1}\n",
    "y = A\\cdot u.\n",
    "\\end{equation}\n",
    "Пусть\n",
    "$$\n",
    "A = \\dfrac{1}{2}\\left(\n",
    "    \\begin{array}{cc}\n",
    "    1 & 1\\\\\n",
    "    1+10^{-8} & 1 - 10^{-8}\n",
    "    \\end{array}\n",
    "\\right),\\; \n",
    "y = \\left(\n",
    "    \\begin{array}{c}\n",
    "    1\\\\\n",
    "    1\n",
    "    \\end{array}\n",
    "\\right).\n",
    "$$\n",
    "\n",
    "Максимальное и минимальное сингулярные значения матрицы $A$ задачи \\eqref{eq1} соответственно равны $\\sigma_{max} = 1$ и $\\sigma_{min} =5 \\cdot 10^{−9} $, а спектральное\n",
    "число обусловленности задачи $\\kappa_2 = \\frac{\\sigma_{max}}{\\sigma_{min}} = 2 \\cdot 10^8$. Таким образом, рассматривая задача относится к плохо обусловленным вычислительным задачам.\n",
    "\n",
    "Вектор точного решения, полученный с помощью системы нормальных уравнений равен:\n",
    "$\n",
    "u_{ls} = \\left(A^\\top A\\right)^{-1}A^\\top y = \\left(\\begin{array}{c}\n",
    "    1\\\\\n",
    "    1\n",
    "    \\end{array}\n",
    "    \\right).\n",
    "$\n",
    "\n",
    "Рассмотрим задачу \\eqref{eq1} с небольшим возмущением в векторе правой части:\n",
    "\\begin{equation}\n",
    "\\label{eq2}\\tag{2}\n",
    "\\tilde{y} = A\\cdot u,\n",
    "\\end{equation}\n",
    "где $\\tilde{y} = y  + \\left(\n",
    "    \\begin{array}{c}\n",
    "    0.01\\\\\n",
    "    0\n",
    "    \\end{array}\n",
    "    \\right)$.\n",
    "\n",
    "Решая систему \\eqref{eq2} с помощью системы нормальных уравнений получим $ u^{*}_{ls} = \\left(A^\\top A\\right)^{-1}A^\\top \\tilde{y} = \\left(\\begin{array}{c}\n",
    "    1.01 \\cdot 10^{−6}\\\\\n",
    "    1.01 \\cdot 10^6\n",
    "    \\end{array}\n",
    "    \\right)$.\n",
    "\n",
    "Рассматриваемый пример наглядно демонстрирует влияние плохой обусловленности задачи – даже небольшое возмущение вектора правой части может привести к значительному изменению решения, полученного путем решения системы нормальных уравнений.\n",
    "#### Усеченое сингулярное разложение\n",
    "Авторы работы [80] для решения возмущенной задачи \\eqref{eq2} предлагают использовать усеченное сингулярное разложение.\n",
    "\n",
    "Параметр усечения $tol = 1 \\cdot 10^{−7}$, решение равно $u_{tsvd} = \\left(\\begin{array}{c}\n",
    "    1.0050\\\\\n",
    "    1.0049\n",
    "    \\end{array}\n",
    "    \\right)$.\n",
    "\n",
    "К недостатком использования усеченного сингулярного разложения для решения плохо обусловленных задач можно отнести следующее: отсут-\n",
    "ствие методики выбора параметра усечения, в случае матрицы не полного ранга, необходимо сначала вычислить ранг матрицы и уже затем решать\n",
    "задачу. На практике, доступной информацией о задаче чаще всего является информация о возмущении в векторе правой части.\n",
    "\n",
    "### Неявный метод простых итераций на основе сингулярного разложения\n",
    "Вычислим решение возмущенной задачи \\eqref{eq2}  с помощью регуляриванного итерационного алгоритма на основе сингулярного разложения.\n",
    "Параметр $\\delta = 0.01$, параметр $\\omega =\\sqrt{\\alpha}=\\sigma_{max},\\; \\dfrac{\\sigma_{max}}{2},\\; \\dfrac{\\sigma_{max}}{5},\\; \\dfrac{\\sigma_{max}}{10}$.\n",
    "\n",
    "Результаты расчетов представлены в таблице.\n",
    "\n",
    "<table style=\"width:50%\" align=\"center\" border=\"2\">\n",
    "<thead>\n",
    "    <tr>\n",
    "        <th> $\\omega$ </th>\n",
    "        <th> Число итераций</th>\n",
    "        <th> $\\frac{\\left\\Vert u-u_k\\right\\Vert}{\\left\\Vert u\\right\\Vert}$</th>\n",
    "        <th> $u_k$ </th>\n",
    "    </tr>\n",
    "</thead>\n",
    "<tbody>\n",
    "    <tr>\n",
    "        <td> $\\sigma_{max}=1$ </td>\n",
    "        <td> $8$ </td>\n",
    "        <td> $1.07\\cdot 10^{-3}$</td>\n",
    "        <td> $\\left(1.0011,\\; 1.0011\\right)^\\top$ </td>\n",
    "    </tr>\n",
    "    <tr>\n",
    "        <td> $\\frac{\\sigma_{max}}{2}=0.5$</td>\n",
    "        <td> $4$ </td>\n",
    "        <td> $3.39\\cdot 10^{-3}$</td>\n",
    "        <td> $\\left(1.0033,\\; 1.0033\\right)^\\top$ </td>\n",
    "    </tr>\n",
    "    <tr>\n",
    "        <td> $\\frac{\\sigma_{max}}{5}=0.2$</td>\n",
    "        <td> $2$ </td>\n",
    "        <td> $3.51\\cdot 10^{-3}$</td>\n",
    "        <td> $\\left(1.0035,\\; 1.0035\\right)^\\top$ </td>\n",
    "    </tr>\n",
    "    <tr>\n",
    "        <td> $\\frac{\\sigma_{max}}{10}=0.1$</td>\n",
    "        <td> $2$ </td>\n",
    "        <td> $4.09\\cdot 10^{-3}$</td>\n",
    "        <td> $\\left(1.0049,\\; 1.0049\\right)^\\top$ </td>\n",
    "    </tr>\n",
    "</tbody>\n",
    "</table>\n",
    "\n",
    "Результаты вычислений позволяют сделать вывод, что предложенный метод по точности не уступает методам\n",
    " основанным на сингулярном разложении, но за счет варьирования параметров позволяет получать более точные решения.\n"
   ]
  },
  {
   "cell_type": "code",
   "execution_count": null,
   "metadata": {},
   "outputs": [],
   "source": [
    "import numpy as np\n",
    "from numpy import linalg as LA\n",
    "import matplotlib.pyplot as plt\n",
    "from matplotlib.ticker import MaxNLocator"
   ]
  },
  {
   "cell_type": "code",
   "execution_count": 14,
   "metadata": {},
   "outputs": [],
   "source": [
    "def tsvd(u, s, v, b, tol):\n",
    "    \"\"\"\n",
    "     Усеченое сингулярное разложение (tsvd) (для примера)\n",
    "    \"\"\"\n",
    "    n, p = v.shape\n",
    "    s = s.reshape(n, 1)\n",
    "    x_k = np.zeros((n,1))\n",
    "    k = s[s>tol].shape[0]\n",
    "    beta = u[:,0:p].T@b\n",
    "    xi = beta/s\n",
    "    x_k = v[:,0:k]@xi[0:k]\n",
    "    return x_k, k"
   ]
  },
  {
   "cell_type": "code",
   "execution_count": 25,
   "metadata": {},
   "outputs": [],
   "source": [
    "def risimsvd(u, s, vh, f, omega, delta, tau = 1.01):\n",
    "    \"\"\"\n",
    "    Регуляризованный вариант неявного метода простых итераций на основе сингулярного разложения.\n",
    "    :param u: левые сингулярные векторы\n",
    "    :param s: сингулярные числа\n",
    "    :param vh: правые сингулярные векторы\n",
    "    :param f: вектор правой части\n",
    "    :param omega:\n",
    "    :param delta: невязка || f - \\filde{f}||\n",
    "    :return: вектор решения, число итераций, вектор невязки на каждой итерации\n",
    "    \"\"\"\n",
    "    rdelta = []\n",
    "    n = s.shape[0]\n",
    "    n1 = vh.shape[1]\n",
    "    s = s.reshape(n, 1)\n",
    "    alpha = omega ** 2\n",
    "    s2 = s ** 2 + alpha\n",
    "    g_alpha = vh[:, 0:n1].T @ np.divide(np.multiply(s, u[:, 0:n].T @ f), s2)\n",
    "    phi_alpha = vh[:, 0:n1].T @ np.divide(vh[:, 0:n1], s2)\n",
    "    theta = np.zeros((vh.shape[1], 1))\n",
    "    ee = s * np.eye(n)\n",
    "    it = 0\n",
    "    err = 1e+10\n",
    "    while err >= tau*delta:\n",
    "        theta = alpha * phi_alpha @ theta + g_alpha\n",
    "        it = it + 1\n",
    "        err = LA.norm((u @ (ee @ vh)) @ theta - f)\n",
    "        rdelta = np.append(rdelta, err)\n",
    "    return theta.reshape(n1, 1), it, rdelta"
   ]
  },
  {
   "cell_type": "code",
   "execution_count": 5,
   "metadata": {},
   "outputs": [],
   "source": [
    "A = 0.5*np.array([[1.0, 1+1e-08], [1.0, 1-10e-08]])\n",
    "f = np.array([[1.0], [1.0]])\n",
    "u_ext = np.array([[1.0], [1.0]])\n",
    "f[0,0] = f[0,0]+0.01"
   ]
  },
  {
   "cell_type": "markdown",
   "metadata": {},
   "source": [
    "#### Усеченое сингулярное разложение"
   ]
  },
  {
   "cell_type": "code",
   "execution_count": 62,
   "metadata": {},
   "outputs": [
    {
     "name": "stdout",
     "output_type": "stream",
     "text": [
      "Относительная ошибка 5.00e-03 \n"
     ]
    }
   ],
   "source": [
    "u, s, vh = LA.svd(A, full_matrices = False)\n",
    "tol = 1e-07\n",
    "u_tsvd, k = tsvd(u, s, vh.T, f, tol)\n",
    "tsvd_err = LA.norm(u_ext - u_tsvd)/LA.norm(u_ext)\n",
    "print('Относительная ошибка %.2e ' % tsvd_err)"
   ]
  },
  {
   "cell_type": "markdown",
   "metadata": {},
   "source": [
    "### Неявный метод простых итераций на основе сингулярного разложения"
   ]
  },
  {
   "cell_type": "code",
   "execution_count": 65,
   "metadata": {},
   "outputs": [
    {
     "name": "stdout",
     "output_type": "stream",
     "text": [
      "Относительная ошибка 1.07e-03 \n",
      "Относительная ошибка 3.39e-03 \n",
      "Относительная ошибка 3.51e-03 \n",
      "Относительная ошибка 4.90e-03 \n"
     ]
    },
    {
     "data": {
      "image/png": "[encoded data removed]",
      "text/plain": [
       "<Figure size 432x288 with 1 Axes>"
      ]
     },
     "metadata": {
      "needs_background": "light"
     },
     "output_type": "display_data"
    },
    {
     "data": {
      "image/png": "[encoded data removed]",
      "text/plain": [
       "<Figure size 432x288 with 1 Axes>"
      ]
     },
     "metadata": {
      "needs_background": "light"
     },
     "output_type": "display_data"
    },
    {
     "data": {
      "image/png": "[encoded data removed]",
      "text/plain": [
       "<Figure size 432x288 with 1 Axes>"
      ]
     },
     "metadata": {
      "needs_background": "light"
     },
     "output_type": "display_data"
    },
    {
     "data": {
      "image/png": "[encoded data removed]",
      "text/plain": [
       "<Figure size 432x288 with 1 Axes>"
      ]
     },
     "metadata": {
      "needs_background": "light"
     },
     "output_type": "display_data"
    }
   ],
   "source": [
    "delta = 0.01\n",
    "u,s,vh = LA.svd(A,full_matrices = False)\n",
    "tau = 1.01\n",
    "k = np.array([1, 2, 5, 10]);\n",
    "err = np.zeros([k.shape[0]])\n",
    "uk = np.zeros([u_ext.shape[0],k.shape[0]])\n",
    "for i in range(k.shape[0]):\n",
    "    omega = s[0]/k[i]\n",
    "    theta, it, rdelta = risimsvd(u, s, vh, f, omega, delta)\n",
    "    err[i] = LA.norm(u_ext - theta)/LA.norm(u_ext)\n",
    "    uk[:,i] = theta.reshape([1,u_ext.shape[0]])\n",
    "    gd = np.zeros([it])\n",
    "    td = np.zeros([it])\n",
    "    gd[:] = delta\n",
    "    td[:] = tau*delta\n",
    "    ax = plt.figure().gca()\n",
    "    ax.xaxis.set_major_locator(MaxNLocator(integer=True))\n",
    "    plt.ylabel('$\\\\left\\\\Vert A\\cdot u_k - \\\\tilde{f}\\\\right\\\\Vert$', rotation=0,labelpad=30)\n",
    "    plt.xlabel('Итерация')\n",
    "    plt.title(\" $\\\\omega = $ \" + str(float(\"{0:.4f}\".format(omega))))\n",
    "    ax.plot(range(1,it+1),rdelta,'bx-.',range(1,it+1),td,'r--')\n",
    "    print('Относительная ошибка %.2e ' % err[i])"
   ]
  },
  {
   "cell_type": "code",
   "execution_count": null,
   "metadata": {},
   "outputs": [],
   "source": []
  }
 ],
 "metadata": {
  "kernelspec": {
   "display_name": "Python 3",
   "language": "python",
   "name": "python3"
  },
  "language_info": {
   "codemirror_mode": {
    "name": "ipython",
    "version": 3
   },
   "file_extension": ".py",
   "mimetype": "text/x-python",
   "name": "python",
   "nbconvert_exporter": "python",
   "pygments_lexer": "ipython3",
   "version": "3.7.4"
  }
 },
 "nbformat": 4,
 "nbformat_minor": 2
}
